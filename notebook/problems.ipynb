{
 "cells": [
  {
   "cell_type": "markdown",
   "id": "a41f3622",
   "metadata": {},
   "source": [
    "# Probability exercises"
   ]
  },
  {
   "cell_type": "markdown",
   "id": "a6bdbd89",
   "metadata": {},
   "source": [
    "## Exercise 1 \n",
    "\n",
    "Two dices are thrown once and the total score is observed. Use a simulation to find the estimated probability that the total score is even or greater than 7.  A simulation is a repetition of the same experiment multiple times to observe its behavior:\n",
    "\n",
    "- Run the experiment 1000 times (roll 2 dice 1000 times, and sum the number of both dices).\n",
    "- Keep track of the number of times that the sum was either greater than 7 or an even number.\n",
    "- Divide the number from step 2 by the number of iterations (1000)."
   ]
  },
  {
   "cell_type": "code",
   "execution_count": 1,
   "id": "8939d892",
   "metadata": {},
   "outputs": [
    {
     "name": "stdout",
     "output_type": "stream",
     "text": [
      "The probability of getting a number greater than 7 or an even number is: 67.4%\n"
     ]
    }
   ],
   "source": [
    "import random \n",
    "\n",
    "#Function declaration(amount of times the dices are thrown) and iniiitializing the counter (to keep track of counts) to 0\n",
    "def dice_throws(simulation = 1000):\n",
    "    counter = 0\n",
    "\n",
    "#Looping over the 1000 throws\n",
    "    for i in range(simulation):\n",
    "        \n",
    "        #Stating the n of possiiible results and then sum up both results\n",
    "        sim_die1 = random.randint(1,6)\n",
    "        sim_die2 = random.randint(1,6)\n",
    "        result = sim_die1 + sim_die2\n",
    "\n",
    "        #Checking if the product of the sum iis even or >7 and if so, add 1 to the counter\n",
    "        if result  % 2 == 0 or result >7: \n",
    "            counter += 1 \n",
    "\n",
    "    return counter / simulation\n",
    "    \n",
    "    #Calling the function and mulitp, getting 2 decimals and rounding up the result\n",
    "probability = round(dice_throws() * 100, 2)\n",
    "\n",
    "#F-string for clarity!\n",
    "print(f\"The probability of getting a number greater than 7 or an even number is: {probability}%\")"
   ]
  },
  {
   "cell_type": "markdown",
   "id": "309836ac",
   "metadata": {},
   "source": [
    "NOTA: Estoy 100% seguro de que hay una manera más corta de hacer esto con numpy usando np.random.randint pero me confundí \n",
    "a la hora de almacenar los resultados! Existe la posibilidad de verlo una vez el ejercicio sea corregido? Gracias de antemano! "
   ]
  },
  {
   "cell_type": "markdown",
   "id": "55732bca",
   "metadata": {},
   "source": [
    "## Exercise 2\n",
    "\n",
    "A box contains 10 white balls, 20 red balls and 30 green balls. If we take 5 balls from the box with replacement (we take the ball, observe what color it is and put it back into the box). We want to know the probability of:\n",
    "\n",
    "1. Take 3 white and 2 red.\n",
    "2. Take all of the same color.\n",
    "\n",
    "Run the experiment 1000 times and calculate the above probabilities."
   ]
  },
  {
   "cell_type": "code",
   "execution_count": null,
   "id": "23244d20",
   "metadata": {},
   "outputs": [
    {
     "name": "stdout",
     "output_type": "stream",
     "text": [
      "We have a pool of mixed balls, filled with 10 White balls, 20 Red balls and 30 Green balls.\n",
      "The probability of getting 3 white balls and 2 red balls is: 0.3%\n",
      "The probability of getting all balls of the same color is: 2.9%\n"
     ]
    }
   ],
   "source": [
    "import numpy as np\n",
    "from collections import Counter\n",
    "ball_box = {}\n",
    "\n",
    "# Create the box of balls\n",
    "for i in range(60):\n",
    "    if i < 10:\n",
    "        ball_box[i] = \"White\"\n",
    "    elif (i > 9) and (i < 30):\n",
    "        ball_box[i] = \"Red\"\n",
    "    else:\n",
    "        ball_box[i] = \"Green\"\n",
    "\n",
    "#print(ball_box)\n",
    "\n",
    "#Transforming the dict to a list as I find iit easier to work with \n",
    "ball_list = list(ball_box.values())\n",
    "\n",
    "#Function declaration for simulation and counting values\n",
    "def simulation(simulation = 1000):\n",
    "    first_prob_counter = 0 #3 white and 2 red\n",
    "    second_prob_counter = 0 #all same color \n",
    "\n",
    "    #Running 1000 draws and drawing balls. Use of the \"Counter()\" function from Collections Library! \n",
    "    for i in range(simulation):\n",
    "        draw = np.random.choice(ball_list, 5)\n",
    "        color_counter = Counter(draw)\n",
    "\n",
    "        #Checking for first probability (3 white and 2 red) and adding 1 to the counter of first prob\n",
    "        if color_counter.get(\"White\", 0) == 3 and color_counter.get(\"Red\", 0) == 2:\n",
    "            first_prob_counter += 1 \n",
    "\n",
    "        #Checking for second probability (All same color) and adding 1 to the counter of second prob\n",
    "        if 5 in color_counter.values():\n",
    "            second_prob_counter += 1 \n",
    "\n",
    "    probability_of_first_condition = np.round((first_prob_counter / simulation) * 100, 2)\n",
    "    probability_of_second_condition = np.round((second_prob_counter / simulation) * 100, 2)\n",
    "\n",
    "    return probability_of_first_condition, probability_of_second_condition\n",
    "\n",
    "\n",
    "\n",
    "probability_of_first_condition, probability_of_second_condition = simulation()\n",
    "\n",
    "print(\"We have a pool of mixed balls, filled with 10 White balls, 20 Red balls and 30 Green balls.\")\n",
    "print(f\"The probability of getting 3 white balls and 2 red balls is: {probability_of_first_condition}%\")\n",
    "print(f\"The probability of getting all balls of the same color is: {probability_of_second_condition}%\")"
   ]
  },
  {
   "cell_type": "markdown",
   "id": "abf96ee2",
   "metadata": {},
   "source": [
    "NOTA: Buscando en google descubrí la librería \"Collections\" que me parece tremendamente practica para trabajar con listas, tuplas, dict, etc. El uso de esta librería se debe a que quería correr el código siguiendo mi proceso de pensamiento logico y no copiarme ciertas partes de \"solutions\" ya que no se ajustaba a lo que yo estaba pensando y despues de 3 días ha sido conseguido. Sin embargo, al igual que en el ejercicio anterior creo que podría haber utilizado Numpy de forma más extensa y serían menos lineas de codigo. "
   ]
  }
 ],
 "metadata": {
  "kernelspec": {
   "display_name": "Python 3",
   "language": "python",
   "name": "python3"
  },
  "language_info": {
   "codemirror_mode": {
    "name": "ipython",
    "version": 3
   },
   "file_extension": ".py",
   "mimetype": "text/x-python",
   "name": "python",
   "nbconvert_exporter": "python",
   "pygments_lexer": "ipython3",
   "version": "3.11.4"
  }
 },
 "nbformat": 4,
 "nbformat_minor": 5
}
